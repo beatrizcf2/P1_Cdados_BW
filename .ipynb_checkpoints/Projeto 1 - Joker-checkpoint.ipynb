{
 "cells": [
  {
   "cell_type": "markdown",
   "metadata": {},
   "source": [
    "# PROJETO 1 - CLASSIFICADOR DE SENTIMENTO DO FILME JOKER\n",
    "__________________________________________________________________________________________________________________\n",
    "\n",
    "### Alunos:\n",
    "\n",
    "Nome: Beatriz Cabral Fernandes \n",
    "\n",
    "Nome: Eduardo Ancona Mateus \n"
   ]
  },
  {
   "cell_type": "markdown",
   "metadata": {},
   "source": [
    "## 1. INTRODUÇÃO \n",
    "\n",
    "A proposta desse projeto é desenvolver um classificador que irá analisar como o público está reagindo ao premiado filme ***Joker***, do diretor *Todd Phillips*. Para isso, será utilizado como método o famoso algoritmo de Naive-Bayes."
   ]
  },
  {
   "cell_type": "markdown",
   "metadata": {},
   "source": [
    "## 2. DESENVOLVIMENTO E METODOLOGIA\n",
    "\n",
    "A fim de simplificar a explicação do processo de desenvolvimento do projeto, ele será dividido em X etapas\n",
    "\n",
    "### ETAPA 1 - Preparando o ambiente no Jupyter\n",
    "\n",
    "Nessa etapa, serão baixadas e importadas todas as bibliotecas relevantes para o código, bem como implementadas todas as funções a serem utilizadas"
   ]
  },
  {
   "cell_type": "code",
   "execution_count": 1,
   "metadata": {},
   "outputs": [],
   "source": [
    "%%capture\n",
    "\n",
    "#Instalando o tweepy\n",
    "!pip install tweepy\n",
    "\n",
    "#Importando as bibliotecas\n",
    "import tweepy\n",
    "import math\n",
    "import os.path\n",
    "import pandas as pd\n",
    "import json\n",
    "from random import shuffle\n",
    "from IPython.display import Image\n",
    "import re\n",
    "\n",
    "#criando funcao de limpeza de caracteres\n",
    "def cleanup(text):\n",
    "    \"\"\"\n",
    "        Função de limpeza muito simples que troca alguns sinais básicos por espaços\n",
    "    \"\"\"\n",
    "    #import string\n",
    "    punctuation = '[!-.:?;]' # Note que os sinais [] são delimitadores de um conjunto.\n",
    "    pattern = re.compile(punctuation)\n",
    "    text_subbed = re.sub(pattern, ' ', text)\n",
    "    return text_subbed"
   ]
  },
  {
   "cell_type": "markdown",
   "metadata": {},
   "source": [
    "### ETAPA 2 - Autenticando no Twitter\n",
    "\n",
    "Conta: `@datascience_dudle`\n",
    "\n",
    "\n",
    "Aqui será feita a autenticação no twitter, a partir de um código obtido no próprio site. Apenas o detentor das chaves de acesso da conta no Twitter consegue rodar o cógigo, e por isso ele encontra-se comentado."
   ]
  },
  {
   "cell_type": "code",
   "execution_count": 2,
   "metadata": {},
   "outputs": [],
   "source": [
    "#leitura do arquivo no formato JSON\n",
    "#with open('auth.pass') as fp:    \n",
    "    \n",
    "    #data = json.load(fp)\n",
    "\n",
    "#Configurando a biblioteca. Não modificar\n",
    "#auth = tweepy.OAuthHandler(data['consumer_key'], data['consumer_secret'])\n",
    "#auth.set_access_token(data['access_token'], data['access_token_secret'])"
   ]
  },
  {
   "cell_type": "markdown",
   "metadata": {},
   "source": [
    "____________\n",
    "\n",
    "### ETAPA 3 - Escolha de um produto e coleta das mensagens\n",
    "\n",
    "No arquivo `Projeto1_Obtenção_dos_tweets.ipynb` foram coletados tweets relacionados ao filme ***Joker*** e salvos em na planilha do excel `Joker.xlsx`. Ao coletar os tweets com essa keyword, obtivemos 601 tweets para treinamento e 600 para teste. Em seguida foi feita a leitura dos arquivos."
   ]
  },
  {
   "cell_type": "code",
   "execution_count": 3,
   "metadata": {},
   "outputs": [],
   "source": [
    "# Fazendo a leitura da planilha de treinamento\n",
    "excel = pd.read_excel('Joker.xlsx', sheet_name='Treinamento')\n",
    "excel_teste = pd.read_excel('Joker.xlsx', sheet_name='Teste')"
   ]
  },
  {
   "cell_type": "markdown",
   "metadata": {},
   "source": [
    "### ETAPA 4 - Classificação manual dos tweets\n",
    "\n",
    "Vale ressaltar que o foco desse estudo é analisar o sentimento dos tweets relacionados ao premiado filme ***Joker***.\n",
    "Desta forma, foram previamente estabelecidas 5 categorias para a classificação das mensagens:\n",
    "\n",
    "* `P` - ***Crítica positiva*** – se a mensagem transmitida é uma crítica positiva;\n",
    "* `N` - ***Crítica negativa*** – se a mensagem transmitida é uma crítica negativa;\n",
    "* `I` - ***Irrelevante*** – se a mensagem transmitida estiver no contexto proposto, mas não for relevante para análise;\n",
    "* `R` - ***Reação*** - se a mensagem transmitida trata-se de uma reação ou emoção em relação ao filme ou a uma cena;\n",
    "* `F` - ***Fora do contexto*** - se a mensagem transmitida esta fora do contexto proposto.\n",
    "\n",
    "\n",
    "Estabelecidas as categorias e selecionados os tweets, foi utilizada a base de treinamento, na qual as mensagens foram qualificadas manualmente no excel de acordo com a categoria mais adequada. Conforme mostra a tabela a seguir:"
   ]
  },
  {
   "cell_type": "code",
   "execution_count": 4,
   "metadata": {},
   "outputs": [
    {
     "data": {
      "text/html": [
       "<div>\n",
       "<style scoped>\n",
       "    .dataframe tbody tr th:only-of-type {\n",
       "        vertical-align: middle;\n",
       "    }\n",
       "\n",
       "    .dataframe tbody tr th {\n",
       "        vertical-align: top;\n",
       "    }\n",
       "\n",
       "    .dataframe thead th {\n",
       "        text-align: right;\n",
       "    }\n",
       "</style>\n",
       "<table border=\"1\" class=\"dataframe\">\n",
       "  <thead>\n",
       "    <tr style=\"text-align: right;\">\n",
       "      <th></th>\n",
       "      <th>Treinamento</th>\n",
       "      <th>Etiquetas</th>\n",
       "    </tr>\n",
       "  </thead>\n",
       "  <tbody>\n",
       "    <tr>\n",
       "      <th>0</th>\n",
       "      <td>mortos pelo regime genocida da china 100.000.0...</td>\n",
       "      <td>F</td>\n",
       "    </tr>\n",
       "    <tr>\n",
       "      <th>1</th>\n",
       "      <td>@thiago_joker tempos de quarentena, sei lá né ...</td>\n",
       "      <td>F</td>\n",
       "    </tr>\n",
       "    <tr>\n",
       "      <th>2</th>\n",
       "      <td>se o governador do rio de janeiro candidatar p...</td>\n",
       "      <td>F</td>\n",
       "    </tr>\n",
       "    <tr>\n",
       "      <th>3</th>\n",
       "      <td>@jillajeeva332 @yutheesh0011 @joker_rowdy @pok...</td>\n",
       "      <td>F</td>\n",
       "    </tr>\n",
       "    <tr>\n",
       "      <th>4</th>\n",
       "      <td>galera só pra relembrar os filmes da dc de mai...</td>\n",
       "      <td>I</td>\n",
       "    </tr>\n",
       "  </tbody>\n",
       "</table>\n",
       "</div>"
      ],
      "text/plain": [
       "                                         Treinamento Etiquetas\n",
       "0  mortos pelo regime genocida da china 100.000.0...         F\n",
       "1  @thiago_joker tempos de quarentena, sei lá né ...         F\n",
       "2  se o governador do rio de janeiro candidatar p...         F\n",
       "3  @jillajeeva332 @yutheesh0011 @joker_rowdy @pok...         F\n",
       "4  galera só pra relembrar os filmes da dc de mai...         I"
      ]
     },
     "execution_count": 4,
     "metadata": {},
     "output_type": "execute_result"
    }
   ],
   "source": [
    "#Definindo 'Etiquetas' como categoria e renomeando as categorias (1=P, 2=N, 3=I, 4=R, 5=F)\n",
    "excel.loc[:,'Etiquetas'] = excel['Etiquetas'].astype('category')\n",
    "excel.Etiquetas.cat.categories = ['P','N','I','R','F']\n",
    "\n",
    "excel.head()"
   ]
  },
  {
   "cell_type": "markdown",
   "metadata": {},
   "source": [
    "### ETAPA 5 - Montando o Classificador Naive-Bayes"
   ]
  },
  {
   "cell_type": "markdown",
   "metadata": {},
   "source": [
    "### Breve explicação de *Naive Bayes*\n",
    "O algoritmo de *Naive Bayes* é um classificador probabilístico baseado no teorema de Bayes, utilizado no processo de machine learning. O algoritmo supõe que uma característica independe da outra para acontecer, ou seja, mesmo na presença de uma característica particular em uma classe, isso não afeta na probabilidade de qualquer característica ocorrer. O teorema de bayes é escrito da seguinte forma:"
   ]
  },
  {
   "cell_type": "markdown",
   "metadata": {},
   "source": [
    "![title](img/bayes.png)"
   ]
  },
  {
   "cell_type": "markdown",
   "metadata": {},
   "source": [
    "* $P(A)$ - Probabilidade a priori\n",
    "* $P(B)$ - Probilidade Total\n",
    "* $P(A|B)$ - posteriori\n",
    "* $P(B|A)$ - verossimilhanca\n",
    "\n",
    "\n",
    "Esse método será utilizado no projeto, uma vez que permite calcular a probabilidade de uma mensagem receber diferentes classificações, por exemplo, dado um tweet, assumindo que as palavras nele não tem nenhuma relação entre si.\n",
    "\n",
    "A partir do nosso modelo, poderíamos reescrever o teorema de bayes da seguinte forma:"
   ]
  },
  {
   "cell_type": "markdown",
   "metadata": {},
   "source": [
    "# $P(C|P) = \\frac{P(P|C).P(C)}{P(P)}$"
   ]
  },
  {
   "cell_type": "markdown",
   "metadata": {},
   "source": [
    "A variável C é a classe variável que representa a categoria de um tweet, a partir das condições estabelecidas (probabilidade de ocorrência de uma palavra dada as condições). A variável P representa as palavras ocorridas nos tweets.\n",
    "\n",
    "\n",
    "P pode ser:"
   ]
  },
  {
   "cell_type": "markdown",
   "metadata": {},
   "source": [
    "![title](img/bayes2.png)"
   ]
  },
  {
   "cell_type": "markdown",
   "metadata": {},
   "source": [
    "Substituindo P por cada uma das possíveis palavras, temos:"
   ]
  },
  {
   "cell_type": "markdown",
   "metadata": {},
   "source": [
    "![title](img/bayes3.png)"
   ]
  },
  {
   "cell_type": "markdown",
   "metadata": {},
   "source": [
    "Nesse momento queremos classificar se um tweet está dentro ou fora do contexto do filme Joker. Para tanto é necessário analisar analisar as probabilidades.\n",
    "\n",
    "\n",
    "Ou seja, precisa decidir se:\n",
    "\n",
    "## $P(Dentro do contexto|frase) > P(Fora do contexto|frase)$\n",
    "\n",
    "\n",
    "\n",
    "Utilizando o teorema de Bayes, temos:\n",
    "\n",
    "## $P(D|frase) = \\frac{P(frase|D)P(D)}{P(frase)}$\n",
    "\n",
    "e que:\n",
    "\n",
    "## $P(F|frase) = \\frac{P(frase|F)P(F)}{P(frase)}$\n",
    "\n",
    "\n",
    "\n",
    "Para implementar esse algoritmo, uma nova tabela deve ser criada com as palavras e suas respectivas frequências relativas em cada uma das categorias. Porém antes disso, deverá ser feita uma limpeza das mensagens, removendo pontuações e caracteres que não convém a análise."
   ]
  },
  {
   "cell_type": "code",
   "execution_count": 5,
   "metadata": {},
   "outputs": [
    {
     "data": {
      "text/plain": [
       "['Treinamento', 'Etiquetas']"
      ]
     },
     "execution_count": 5,
     "metadata": {},
     "output_type": "execute_result"
    }
   ],
   "source": [
    "# Verificando categorias do meu dataset\n",
    "list(excel)"
   ]
  },
  {
   "cell_type": "code",
   "execution_count": 18,
   "metadata": {
    "scrolled": false
   },
   "outputs": [
    {
     "data": {
      "text/plain": [
       "o        329\n",
       "joker    324\n",
       "de       262\n",
       "que      227\n",
       "a        226\n",
       "e        219\n",
       "é        175\n",
       "do       162\n",
       "https    147\n",
       "//t      146\n",
       "não      133\n",
       "eu       105\n",
       "rt        98\n",
       "pra       95\n",
       "com       77\n",
       "dtype: int64"
      ]
     },
     "execution_count": 18,
     "metadata": {},
     "output_type": "execute_result"
    }
   ],
   "source": [
    "# Juntando todos os tweets da base de treinamento\n",
    "texto_completo = cleanup(' '.join(excel.Treinamento)).split()\n",
    "pd.Series(texto_completo).value_counts().head(15)\n"
   ]
  },
  {
   "cell_type": "markdown",
   "metadata": {},
   "source": [
    "Fazendo uma breve análise dos 15 termos mais frequentes, observa-se que alguns desses termos não são significantes para a nossa análise, e portanto deve-se ser feita a limpeza para nao prejudicar o resultado/performance. Exemplo:\n",
    "- https\n",
    "- -\n",
    "- rt\n",
    "- /"
   ]
  },
  {
   "cell_type": "code",
   "execution_count": 54,
   "metadata": {},
   "outputs": [],
   "source": [
    "def Frequencia(n):\n",
    "    y = cleanup(' '.join(excel[excel.Etiquetas==n].Treinamento)).split()\n",
    "    f_rel = pd.Series(y).value_counts(True)\n",
    "    f_abs = pd.Series(y).value_counts()\n",
    "    return y,f_rel,f_abs"
   ]
  },
  {
   "cell_type": "markdown",
   "metadata": {},
   "source": [
    "### Definindo a probabilidade de cada uma das categorias"
   ]
  },
  {
   "cell_type": "markdown",
   "metadata": {},
   "source": [
    "Observando a tabela a seguir, depreende-se que uma grande parte dos tweets fora do contexto do projeto. "
   ]
  },
  {
   "cell_type": "code",
   "execution_count": 55,
   "metadata": {},
   "outputs": [
    {
     "data": {
      "text/html": [
       "<div>\n",
       "<style scoped>\n",
       "    .dataframe tbody tr th:only-of-type {\n",
       "        vertical-align: middle;\n",
       "    }\n",
       "\n",
       "    .dataframe tbody tr th {\n",
       "        vertical-align: top;\n",
       "    }\n",
       "\n",
       "    .dataframe thead th {\n",
       "        text-align: right;\n",
       "    }\n",
       "</style>\n",
       "<table border=\"1\" class=\"dataframe\">\n",
       "  <thead>\n",
       "    <tr style=\"text-align: right;\">\n",
       "      <th></th>\n",
       "      <th>Etiquetas</th>\n",
       "    </tr>\n",
       "  </thead>\n",
       "  <tbody>\n",
       "    <tr>\n",
       "      <th>F</th>\n",
       "      <td>0.464107</td>\n",
       "    </tr>\n",
       "    <tr>\n",
       "      <th>I</th>\n",
       "      <td>0.295492</td>\n",
       "    </tr>\n",
       "    <tr>\n",
       "      <th>R</th>\n",
       "      <td>0.110184</td>\n",
       "    </tr>\n",
       "    <tr>\n",
       "      <th>P</th>\n",
       "      <td>0.098497</td>\n",
       "    </tr>\n",
       "    <tr>\n",
       "      <th>N</th>\n",
       "      <td>0.031720</td>\n",
       "    </tr>\n",
       "  </tbody>\n",
       "</table>\n",
       "</div>"
      ],
      "text/plain": [
       "   Etiquetas\n",
       "F   0.464107\n",
       "I   0.295492\n",
       "R   0.110184\n",
       "P   0.098497\n",
       "N   0.031720"
      ]
     },
     "execution_count": 55,
     "metadata": {},
     "output_type": "execute_result"
    }
   ],
   "source": [
    "pd.Series(excel.Etiquetas).value_counts(True).to_frame()"
   ]
  },
  {
   "cell_type": "markdown",
   "metadata": {},
   "source": [
    "Dessa forma, como tambem para nao criar um classificador enviesado, vamos primeiro classificar os tweets em 2 principais categorias: como Dentro do contexto(soma das categorias P,N,R e I) ou Fora do contexto(categoria F).\n",
    "\n",
    "\n",
    "Aqui, ainda utilizando a funcao anterior que além de limpar a base, retorna as frequencias de cada uma das categorias, podemos definir as seguintes probabilidades:"
   ]
  },
  {
   "cell_type": "code",
   "execution_count": 62,
   "metadata": {},
   "outputs": [],
   "source": [
    "p, rel_p, abs_p = Frequencia('P')\n",
    "n, rel_n, abs_n = Frequencia('N')\n",
    "i, rel_i, abs_i = Frequencia('I')\n",
    "r, rel_r, abs_r = Frequencia('R')\n",
    "f, rel_f, abs_f = Frequencia('F')\n",
    "\n",
    "#Definido a frequencias relativa e absoluta da nova categoria 'Dentro do contexto'\n",
    "rel_d = rel_p + rel_n + rel_i + rel_r\n",
    "abs_d = abs_p + abs_n + abs_i + abs_r\n",
    "d = p + n + i + r \n",
    "\n",
    "#Definindo as probabilidades: soma = 1\n",
    "prob_d = len(d)/len(p + n + i + r + f)\n",
    "prob_f = len(f)/len(p + n + i + r + f)\n"
   ]
  },
  {
   "cell_type": "code",
   "execution_count": 63,
   "metadata": {
    "scrolled": true
   },
   "outputs": [
    {
     "name": "stdout",
     "output_type": "stream",
     "text": [
      "Probabilidade de Tweet dado que é dentro do contexto:  0.18705281607320318\n",
      "Probabilidade de Tweet dado que é fora do contexto:  0.008324285197249367\n"
     ]
    }
   ],
   "source": [
    "tweet_teste = \"joker\"\n",
    "\n",
    "probTweetDadoD = rel_d[tweet_teste.split()].prod()\n",
    "probTweetDadoF = rel_f[tweet_teste.split()].prod()\n",
    "\n",
    "print(\"Probabilidade de Tweet dado que é dentro do contexto: \", probTweetDadoD)\n",
    "print(\"Probabilidade de Tweet dado que é fora do contexto: \", probTweetDadoF)"
   ]
  },
  {
   "cell_type": "code",
   "execution_count": 64,
   "metadata": {},
   "outputs": [
    {
     "name": "stdout",
     "output_type": "stream",
     "text": [
      "Probabilidade de estar dentro do contexto dado que Tweet:  0.0972323553832031\n",
      "Probabilidade de estar fora do contexto dado que Tweet:  0.003997219325686479\n"
     ]
    }
   ],
   "source": [
    "probDDadoTweet = prob_d*probTweetDadoD\n",
    "probFDadoTweet = prob_f*probTweetDadoF\n",
    "\n",
    "print(\"Probabilidade de estar dentro do contexto dado que Tweet: \", probDDadoTweet)\n",
    "print(\"Probabilidade de estar fora do contexto dado que Tweet: \", probFDadoTweet)"
   ]
  },
  {
   "cell_type": "code",
   "execution_count": 66,
   "metadata": {},
   "outputs": [
    {
     "data": {
      "text/plain": [
       "'D'"
      ]
     },
     "execution_count": 66,
     "metadata": {},
     "output_type": "execute_result"
    }
   ],
   "source": [
    "class_tweet = 0\n",
    "if probDDadoTweet>probFDadoTweet:\n",
    "    class_tweet = 'D'\n",
    "else:\n",
    "    class_tweet = 'F'\n",
    "class_tweet"
   ]
  },
  {
   "cell_type": "markdown",
   "metadata": {},
   "source": [
    "### ETAPA 6 - Verificando a performance do classificador"
   ]
  },
  {
   "cell_type": "markdown",
   "metadata": {},
   "source": [
    "## CONCLUSÃO"
   ]
  },
  {
   "cell_type": "markdown",
   "metadata": {},
   "source": [
    "- Faça um comparativo qualitativo sobre os percentuais obtidos para que possa discutir a performance do seu classificador.\n",
    "- Explique como são tratadas as mensagens com dupla negação e sarcasmo.\n",
    "- Proponha um plano de expansão. Por que eles devem continuar financiando o seu projeto?\n",
    "\n",
    "\n",
    "Opcionalmente:\n",
    "\n",
    "- Discorrer por que não posso alimentar minha base de Treinamento automaticamente usando o próprio classificador, aplicado a novos tweets.\n",
    "\n",
    "*Ao se utilizar o próprio classificador para gerar mais amostras de treinamento, o classificador acaba ficando \n",
    "'viciado', ou seja, acaba-se por prejudicar os resultados obtidos, e eles acabam não tendo uma qualidade boa.\n",
    "Seria o contrário de puxar mais tweets, que melhora a qualidade dos dados e dos resultados, por ter um espaço \n",
    "amostral muito maior.*\n",
    "\n",
    "\n",
    "\n",
    "- Propor diferentes cenários de uso para o classificador Naive-Bayes. Pense em outros cenários sem intersecção com este projeto.\n",
    "- Sugerir e explicar melhorias reais no classificador com indicações concretas de como implementar (não é preciso codificar, mas indicar como fazer. Indique material de pesquisa sobre o assunto)."
   ]
  },
  {
   "cell_type": "code",
   "execution_count": null,
   "metadata": {},
   "outputs": [],
   "source": []
  }
 ],
 "metadata": {
  "kernelspec": {
   "display_name": "Python 3",
   "language": "python",
   "name": "python3"
  },
  "language_info": {
   "codemirror_mode": {
    "name": "ipython",
    "version": 3
   },
   "file_extension": ".py",
   "mimetype": "text/x-python",
   "name": "python",
   "nbconvert_exporter": "python",
   "pygments_lexer": "ipython3",
   "version": "3.7.1"
  }
 },
 "nbformat": 4,
 "nbformat_minor": 2
}

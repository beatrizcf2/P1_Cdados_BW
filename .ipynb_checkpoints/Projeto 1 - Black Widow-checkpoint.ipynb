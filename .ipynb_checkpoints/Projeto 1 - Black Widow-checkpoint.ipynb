{
 "cells": [
  {
   "cell_type": "markdown",
   "metadata": {},
   "source": [
    "# PROJETO 1 - CIÊNCIA DOS DADOS\n",
    "\n",
    "_____________________________________________________________________________________________________________________\n",
    "\n",
    "### Alunos:\n",
    "\n",
    "Nome: Beatriz Cabral Fernandes \n",
    "\n",
    "Nome: Eduardo Ancona Mateus \n"
   ]
  },
  {
   "cell_type": "markdown",
   "metadata": {},
   "source": [
    "## 1. INTRODUÇÃO "
   ]
  },
  {
   "cell_type": "markdown",
   "metadata": {},
   "source": [
    "## 2. DESENVOLVIMENTO E METODOLOGIA\n",
    "\n",
    "A fim de simplificar a explicação do processo de desenvolvimento do projeto, ele será dividido em X etapas\n",
    "\n",
    "### ETAPA 1 - Preparando o ambiente no Jupyter\n",
    "\n",
    "Nessa etapa, serão baixadas e importadas todas as bibliotecas relevantes para o código, bem como implementadas todas as funções a serem utilizadas"
   ]
  },
  {
   "cell_type": "code",
   "execution_count": 4,
   "metadata": {},
   "outputs": [],
   "source": [
    "%%capture\n",
    "\n",
    "#Instalando o tweepy\n",
    "!pip install tweepy\n",
    "\n",
    "#Importando as bibliotecas\n",
    "import tweepy\n",
    "import math\n",
    "import os.path\n",
    "import pandas as pd\n",
    "import json\n",
    "from random import shuffle"
   ]
  },
  {
   "cell_type": "markdown",
   "metadata": {},
   "source": [
    "### ETAPA 2 - Autenticando no Twitter\n",
    "\n",
    "Conta: `@datascience_dudle`\n",
    "\n",
    "\n",
    "Aqui será feita a autenticação no twitter, a partir de um código obtido no próprio site."
   ]
  },
  {
   "cell_type": "code",
   "execution_count": 3,
   "metadata": {},
   "outputs": [
    {
     "ename": "NameError",
     "evalue": "name 'json' is not defined",
     "output_type": "error",
     "traceback": [
      "\u001b[1;31m---------------------------------------------------------------------------\u001b[0m",
      "\u001b[1;31mNameError\u001b[0m                                 Traceback (most recent call last)",
      "\u001b[1;32m<ipython-input-3-1b0f116798ac>\u001b[0m in \u001b[0;36m<module>\u001b[1;34m\u001b[0m\n\u001b[0;32m      5\u001b[0m \u001b[1;31m#leitura do arquivo no formato JSON\u001b[0m\u001b[1;33m\u001b[0m\u001b[1;33m\u001b[0m\u001b[1;33m\u001b[0m\u001b[0m\n\u001b[0;32m      6\u001b[0m \u001b[1;32mwith\u001b[0m \u001b[0mopen\u001b[0m\u001b[1;33m(\u001b[0m\u001b[1;34m'auth.pass'\u001b[0m\u001b[1;33m)\u001b[0m \u001b[1;32mas\u001b[0m \u001b[0mfp\u001b[0m\u001b[1;33m:\u001b[0m\u001b[1;33m\u001b[0m\u001b[1;33m\u001b[0m\u001b[0m\n\u001b[1;32m----> 7\u001b[1;33m     \u001b[0mdata\u001b[0m \u001b[1;33m=\u001b[0m \u001b[0mjson\u001b[0m\u001b[1;33m.\u001b[0m\u001b[0mload\u001b[0m\u001b[1;33m(\u001b[0m\u001b[0mfp\u001b[0m\u001b[1;33m)\u001b[0m\u001b[1;33m\u001b[0m\u001b[1;33m\u001b[0m\u001b[0m\n\u001b[0m\u001b[0;32m      8\u001b[0m \u001b[1;33m\u001b[0m\u001b[0m\n\u001b[0;32m      9\u001b[0m \u001b[1;31m#Configurando a biblioteca. Não modificar\u001b[0m\u001b[1;33m\u001b[0m\u001b[1;33m\u001b[0m\u001b[1;33m\u001b[0m\u001b[0m\n",
      "\u001b[1;31mNameError\u001b[0m: name 'json' is not defined"
     ]
    }
   ],
   "source": [
    "#Dados de autenticação do twitter:\n",
    "\n",
    "#Coloque aqui o identificador da conta no twitter: @fulano\n",
    "\n",
    "#leitura do arquivo no formato JSON\n",
    "with open('auth.pass') as fp:    \n",
    "    data = json.load(fp)\n",
    "\n",
    "#Configurando a biblioteca. Não modificar\n",
    "auth = tweepy.OAuthHandler(data['consumer_key'], data['consumer_secret'])\n",
    "auth.set_access_token(data['access_token'], data['access_token_secret'])"
   ]
  },
  {
   "cell_type": "markdown",
   "metadata": {},
   "source": [
    "### ETAPA 3 - Escolha de um produto e coleta das mensagens"
   ]
  },
  {
   "cell_type": "code",
   "execution_count": 2,
   "metadata": {},
   "outputs": [],
   "source": [
    "#Produto escolhido:\n",
    "produto = 'Viuva Negra'\n",
    "\n",
    "#Quantidade mínima de mensagens capturadas:\n",
    "n = 500\n",
    "#Quantidade mínima de mensagens para a base de treinamento:\n",
    "t = 300\n",
    "\n",
    "#Filtro de língua, escolha uma na tabela ISO 639-1.\n",
    "lang = 'pt'"
   ]
  },
  {
   "cell_type": "markdown",
   "metadata": {},
   "source": [
    "### ETAPA 4 - Classificação manual dos tweets\n",
    "\n",
    "Previamente, foram estabelecidas 4 categorias para a classificação das mensagens, entre elas,\n",
    "\n",
    "* P - Positivo – se a mensagem transmitida for positiva;\n",
    "* O - Irrelevante – se a mensagem transmitida não for relevante para análise e/ou não se encaixar em nenhuma das outras categorias;\n",
    "* N - Negativo – se a mensagem transmitida for negativa;\n",
    "* R - Reação – se a mensagem transmitida for uma reação sobre algum episódio, temporada, ou da série em geral.\n",
    "\n",
    "Estabelecidas as categorias e selecionados os tweets, será criada uma base de treinamento, na qual as mensagens serão qualificadas manualmente no excel de acordo com as categoria mais propícias.\n",
    "\n",
    "### ETAPA 5 - Montando o Classificador Naive-Bayes\n",
    "\n",
    "#### Naive Bayes\n",
    "O algoritmo de Naive Bayes é um classificador probabilístico baseado no teorema de Bayes, utilizado no processo de machine learning. O algoritmo supõe que uma característica independe da outra para acontecer, ou seja, mesmo na presença de uma característica particular em uma classe, isso não afeta na probabilidade de qualquer característica ocorrer. O teorema de bayes é escrito da seguinte forma:\n",
    "\n",
    "`colocar a formula de bayes`\n",
    "\n",
    "Esse método será utilizado no projeto, uma vez que permite calcular a probabilidade de uma mensagem ser positiva, por exemplo, dada as palavras utilizadas, assumindo que as palavras em um tweet não tem nenhuma relação entre elas.\n",
    "\n",
    "A partir do nosso modelo, poderíamos reescrever o teorema de bayes da seguinte forma:\n",
    "\n",
    "`colocar a formula de bayes nosso modelo`\n",
    "\n",
    "A variável C é a classe variável que representa se um tweet será positivo, negativo, irrelevante ou uma reação, a partir das condições estabelecidas (probabilidade de ocorrência de uma palavra dada as condições). A variável P representa as palavras ocorridas nos tweets. P pode ser:\n",
    "\n",
    "`colocar os possiveis valores de P`\n",
    "\n",
    "Substituindo P por cada uma das possíveis palavras, temos:\n",
    "\n",
    "`colocar a formula de bayes nosso modelo com valores de P`\n",
    "\n",
    "Para implementar esse algoritmo, uma nova tabela deve ser criada com as palavras e suas respectivas frequências relativas em cada uma das categorias. Porém antes disso, deverá ser feita uma limpeza das mensagens, removendo pontuações e caracteres que não convém a análise."
   ]
  }
 ],
 "metadata": {
  "kernelspec": {
   "display_name": "Python 3",
   "language": "python",
   "name": "python3"
  },
  "language_info": {
   "codemirror_mode": {
    "name": "ipython",
    "version": 3
   },
   "file_extension": ".py",
   "mimetype": "text/x-python",
   "name": "python",
   "nbconvert_exporter": "python",
   "pygments_lexer": "ipython3",
   "version": "3.7.1"
  }
 },
 "nbformat": 4,
 "nbformat_minor": 2
}
